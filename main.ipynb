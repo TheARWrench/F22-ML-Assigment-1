{
 "cells": [
  {
   "cell_type": "code",
   "execution_count": null,
   "metadata": {},
   "outputs": [],
   "source": []
  }
 ],
 "metadata": {
  "kernelspec": {
   "display_name": "Python 3.10.4 ('innolearn')",
   "language": "python",
   "name": "python3"
  },
  "language_info": {
   "name": "python",
   "version": "3.10.4"
  },
  "orig_nbformat": 4,
  "vscode": {
   "interpreter": {
    "hash": "c3406c4ea377a1261c4285aa60368e6544b40c61c4a11ebeac174d6130232973"
   }
  }
 },
 "nbformat": 4,
 "nbformat_minor": 2
}
